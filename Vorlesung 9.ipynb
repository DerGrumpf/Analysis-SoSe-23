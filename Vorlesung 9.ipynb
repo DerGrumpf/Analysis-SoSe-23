{
 "cells": [
  {
   "cell_type": "markdown",
   "id": "f28c4477-0c44-4081-adbb-cbce7243a555",
   "metadata": {},
   "source": [
    "$U \\subseteq \\mathbb{K}, U = \\emptyset, f:U \\longrightarrow \\mathbb{K}, x_0 \\in U$\n",
    "\n",
    "$f$ stetig in $x_0$\n",
    "\n",
    "$\\Leftrightarrow \\forall \\epsilon > 0 \\exists \\delta > 0 \\forall x \\in U , \\left|x-x_0\\right| < \\delta: \\; \\left|f(x)-f(x_0)\\right| < \\epsilon$"
   ]
  },
  {
   "cell_type": "markdown",
   "id": "053b2cc0-2c50-4595-a4c1-9b1653220131",
   "metadata": {},
   "source": [
    "### Beweis\n",
    "\n",
    "\"$\\Rightarrow$\": Sei $(x_n)^\\infty_{n=1} \\in (U x_0)^\\mathbb{N}, \\;x_n \\longrightarrow x_0, n \\longrightarrow \\infty$ und $\\epsilon > 0$. Weil $f$ in $x_0$ stetig ist, gibt es $\\delta > 0$ so, dass für alle $x \\in U$ mit $\\left|x-x_0\\right| < \\delta$ auch $\\left|f(x)-f(x_0)\\right| < \\epsilon$. Da $x_n \\rightarrow x_0$ konvergiert, gibt es ein $n_0 = u_0(\\delta)$ so, dass $\\forall n \\geq n_0: \\; \\left|x-x_0\\right| < \\delta$, also auch $\\forall n \\geq n_0: \\; \\left|f(x)-f(x_0)\\right| < \\epsilon$\n",
    "\n",
    "Ingesamt ist also \n",
    "\n",
    "$\\forall\\epsilon > 0 \\exists n_0 \\in \\mathbb{N} \\forall n \\geq n_0: \\quad \\left|f(x)-f(x_0)\\right| < \\epsilon$\n",
    "\n",
    "$\\Rightarrow \\lim_{n\\longrightarrow\\infty} f(x_n) = f(x_0)$\n",
    "\n",
    "$\\Rightarrow$ Da dies für jede solche Funktion $(x_n)^\\infty_{n=1}$ gilt, $f$ in $x_0$ folgenstetig.\n",
    "\n",
    "\"$\\Leftarrow$\": Sei $f$ nicht stetig in $x_0$, d.h. es gibt ein (festes) $\\epsilon_0 > 0$ so, dass für jedes $\\delta > 0$ ein $x \\in U x_0, \\left|x-x_0\\right| < \\delta$ so existiert, dass $\\left|f(x)-f(x_0)\\right| \\geq \\epsilon_0$\n",
    "\n",
    "Wir wählen (z.b.) $\\delta_n = \\frac{1}{n} > 0$, dann gibt es demgemäß $x \\in U x_0, \\left|x-x_0\\right| < \\delta_n = \\frac{1}{n}$ mit $\\left|f(x)-f(x_0)\\right| \\geq \\epsilon_0$. Also ist $x_n \\longrightarrow x_0$, aber $f(x_n) \\nrightarrow f(x_0), n \\rightarrow \\infty$, und $f$ ist nicht folgenstetig in $x_0$."
   ]
  },
  {
   "cell_type": "markdown",
   "id": "87d214fe-2cc2-479d-b6f8-7539f9dc5b54",
   "metadata": {},
   "source": [
    "## Satz VI.7\n",
    "\n",
    "Seien $U \\subseteq \\mathbb{K}, U \\neq \\emptyset, \\quad f,g: U \\longrightarrow \\mathbb{K}$ stetig in $x_0 \\in U$ und $\\alpha\\in\\mathbb{K}$ stetig in $x_0$.\n",
    "\n",
    "- (i) Dann sind $f+\\alpha g, f \\cdot g : u \\longrightarrow \\mathbb{K}$ stetig in $x_0$ und es gelten\n",
    "\n",
    "$$\\lim_{x \\rightarrow x_0} (f+\\alpha g)(x) = f(x_0) + \\alpha\\cdot g(x_0),$$\n",
    "\n",
    "$$\\lim_{x \\rightarrow x_0} f(x) \\cdot g(x) = f(x_0) \\cdot g(x_0).$$\n",
    "\n",
    "- (ii) Ist $g(x_0) \\neq 0$, so gibt es ein $\\delta_0 > 0$ so, dass $\\forall x \\in U \\cap B_\\mathbb{K}(x_0, \\delta_0): \\quad \\left|g(x)\\right| \\geq \\frac{1}{2} \\left|g(x_0)\\right| > 0$ (VI.23)\n",
    "Außerdem ist $f / g: U \\cap B_\\mathbb{K}(x_0, \\delta_0) \\longrightarrow \\mathbb{K}$ stetig in $x_0$ \n",
    "\n",
    "$$\\lim_{x \\rightarrow x_0} \\frac{f(x)}{g(x)} = \\frac{f(x_0)}{g(x_0)}.$$"
   ]
  },
  {
   "cell_type": "markdown",
   "id": "91df3cc4-7ee4-4612-814d-07012a6e0df1",
   "metadata": {},
   "source": [
    "## Satz VI.8 \n",
    "\n",
    "Seien $u \\subseteq \\mathbb{K}, U \\neq \\emptyset$ und $g: U \\rightarrow \\mathbb{K}$ stetig in $x_0 \\in U$. Seien weiterhin $V := g(U) \\subseteq \\mathbb{K}$ und $f: V \\longrightarrow \\mathbb{K}$ stetig in $g(x_0) \\in V$. Dann ist $f \\circ g: U \\longrightarrow \\mathbb{K}$ stetig in $x_0$, \n",
    "\n",
    "$$\\lim_{x \\longrightarrow x_0} (f \\circ g)(x) = f[g(x_0)]$$"
   ]
  },
  {
   "cell_type": "markdown",
   "id": "cfb512e5-a28a-4b15-a70a-d7562604a106",
   "metadata": {},
   "source": [
    "### Bemerkungen und Beispiele\n",
    "\n",
    "- Seien $n \\in \\mathbb{N}_0$ und $f_n: \\mathbb{K} \\rightarrow \\mathbb{K}, f_n(x) := x^n$.\n",
    "Dann sind offensichtlich $f_0(x) = 1, f_1(x) = x$ stetig in $\\mathbb{K}$\n",
    "Nach __Satz VI.7 (i)__ (und einer kleinen vollstäntigen Induktion) ist mit $f_{n-1}$ auch $f_n = f_{n-1} \\cdot f_1$ stetig in $\\mathbb{K}$, für alle $n \\in \\mathbb{N}$ \n",
    "\n",
    "Weiterhin ist dann nach __Satz VI.7 (i)__ \n",
    "\n",
    "$$p(x) = \\alpha_0 + \\alpha_1 x + \\dots + \\alpha_n x^n = \\alpha_0 + \\alpha_1 f_1(x) + \\dots + \\alpha_n f_n(x)$$\n",
    "\n",
    "stetig in $\\mathbb{K}$.\n",
    "\n",
    "\n",
    "- Sei $\\sin : \\mathbb{C} \\longrightarrow \\mathbb{C}, \\quad \\sin(z) = \\sum\\limits_{k=0}^\\infty \\frac{(-1)^k z^{2k+1}}{(2k+1)!}, \\; z_0 \\in \\mathbb{C}$. Betrachte\n",
    "\n",
    "$$\\left|\\sin(z)-\\sin(z_0)\\right| =\n",
    "\\left|\\sum\\limits_{k=0}^\\infty \\frac{(-1)^k (z^{2k+1}-z_0^{2k+1})}{(2k+1)!}\\right|\n",
    "\\leq \\sum\\limits_{k=0}^\\infty \\frac{\\left|z^{2k+1}-z_0^{2k+1}\\right| }{(2k+1)!} =\n",
    "\\sum\\limits_{k=0}^\\infty \\frac{\\left|(z-z_0)\\right| \\cdot \\left|z_0{2k}\\right|  + \\left|z\\right| \\cdot \\left|z^{2k}z_0{2k}\\right|}{(2k+1)!}\n",
    "$$\n",
    "$$= \\sum\\limits_{k=0}^\\infty \\frac{1}{(2k+1)!} \\cdot \\left| \\sum\\limits_{l=0}^{2k+1} \\binom{2k+1}{l} (z-z_0)^l \\cdot z_0^{2k+1-l} - z_0^{2k+1} \\right|\n",
    "$$\n",
    "$$\n",
    "= \\sum\\limits_{k=0}^\\infty \\frac{1}{(2k+1)!} \\cdot \\left| \\sum\\limits_{l=1}^{2k+1} \\binom{2k+1}{l} (z-z_0)^l \\cdot z_0^{2k+1-l} \\right|\n",
    "\\leq \n",
    "\\sum\\limits_{k=0}^\\infty \\xcancel{\\frac{1}{(2k+1)!}}\n",
    "$$\n",
    "\n",
    "$$\n",
    "= \\left| z-z_0 \\right| \\cdot \\underbrace{e^{\\left| z-z_0 \\right|} \\cdot e^{\\left| z_0 \\right|}}_{z \\rightarrow z_0 \\; beschränkt}\n",
    "$$\n",
    "\n",
    "$\\Rightarrow \\sin$ ist stetig in $z_0 \\in \\mathbb{C}$."
   ]
  },
  {
   "cell_type": "markdown",
   "id": "d4b810d6-dab2-4766-9908-9c9102d76a07",
   "metadata": {},
   "source": [
    "# VI. 3 Erhaltung topologischer Eigenschaften durch stetige Funktionen\n",
    "\n",
    "## Satz VI.9\n",
    "\n",
    "Sei $f: \\mathbb{K} \\rightarrow \\mathbb{K}$. Folgende Aussagen sind gleichwertig:\n",
    "\n",
    "- $f$ ist stetig in $\\mathbb{K} \\Leftrightarrow$ Ist $V \\subseteq K$ offen, so ist auch  \n",
    "\n",
    "$$\n",
    "f^{-1}(V) :=\n",
    "$$\n",
    "\n",
    "\"Jede offene Teilmenge besitzt ein offenes Urbild\"\n",
    "\"Jede abgeschlossene Teilmenge besitzt ein abgeschlossenes Urbild\""
   ]
  },
  {
   "cell_type": "markdown",
   "id": "cac5c601-9a58-44e8-bdf4-198e0ae3aa90",
   "metadata": {},
   "source": [
    "## Satz Vi.10\n",
    "\n",
    "Sind $f: \\mathbb{K} \\rightarrow \\mathbb{K}$ stetig in $\\mathbb{K}$ und $\\mathbb{K} \\subseteq \\mathbb{K}$ kompakt, so auch $f(\\mathbb{K}) = \\{f(x) \\in \\mathbb{K} \\vert x \\in \\mathbb{K}\\}$ kompakt."
   ]
  },
  {
   "cell_type": "markdown",
   "id": "a4ab1c07-719f-46e2-bda7-194fef348625",
   "metadata": {},
   "source": [
    "## Korollar VI.11:\n",
    "\n",
    "Seien $f: \\mathbb{R} \\rightarrow \\mathbb{R}$ stetig in $\\mathbb{R}$ und $\\mathbb{K} \\subseteq \\mathbb{R}$ kompakt. Dann gibt es $x_{min}, x_{max} \\in \\mathbb{K}$ so, dass \n",
    "\n",
    "$$f(x_{min}) = \\inf \\{f(x) \\vert x \\in \\mathbb{K}\\}, \\quad f(x_{max}) = \\sup \\{f(x) \\vert x \\in \\mathbb{K}\\}$$\n",
    "\n",
    "Beispiel:\n",
    "\n",
    "$f: \\mathbb{R}^+ \\rightarrow \\mathbb{R}^+, \\; f(x) = \\frac{1}{x}$"
   ]
  },
  {
   "cell_type": "code",
   "execution_count": 2,
   "id": "acbf4d8c-d0bf-4a2f-a2ff-bae96a4f4f40",
   "metadata": {
    "tags": []
   },
   "outputs": [
    {
     "data": {
      "image/png": "[encoded data removed]",
      "text/plain": [
       "<Figure size 640x480 with 1 Axes>"
      ]
     },
     "metadata": {},
     "output_type": "display_data"
    }
   ],
   "source": [
    "import numpy as np\n",
    "import matplotlib.pyplot as plt\n",
    "\n",
    "plt.plot([1/x for x in range(1, 100)])\n",
    "plt.show()"
   ]
  },
  {
   "cell_type": "markdown",
   "id": "2ae13315-dddd-441e-a73c-fba1eed527d9",
   "metadata": {},
   "source": [
    "Dann ist $\\inf \\{f(x) \\vert x > 0\\} = 0$, und es gibt kein $x_{min} > 0$ so, dass $f(x_{min}) = 0$. Das ist nicht überraschend, da $f$ zwar stetig in $\\mathbb{R}^+$ ist aber $\\mathbb{R}^+$ nicht kompakt ist.\n",
    "\n",
    "- Für $K = [1,2]$ sind jedoch\n",
    "\n",
    "$$ f(1) = 1 \\geq f(x) \\geq \\frac{1}{2} = f(z), \\; \\forall x \\in \\mathbb{K}$$"
   ]
  },
  {
   "cell_type": "markdown",
   "id": "18cbac5d-4a9e-4007-b5ae-41f6b5a6a97b",
   "metadata": {},
   "source": [
    "# VII. Differentiation\n",
    "\n",
    "## Definition VII.1:\n",
    "\n",
    "Seien \n",
    "\n",
    "- (i) $f$ heißt bei $x_0 \\in U$ differenzierbar $:\\Leftrightarrow f^'(x_0) := \\lim_{x \\rightarrow x_0} \\frac{f(x) - f(x_0}{x-x_0} \\in \\mathbb{R}$ existiert. In diesem Fall heißt $f^'(x_0)$ _Ableitung von $f$ bei $x_0$_, und wir schreiben auch "
   ]
  },
  {
   "cell_type": "code",
   "execution_count": null,
   "id": "1ee79f3b-eb5a-46c4-8b4d-67e1c54b2012",
   "metadata": {},
   "outputs": [],
   "source": []
  }
 ],
 "metadata": {
  "kernelspec": {
   "display_name": "Python 3 (ipykernel)",
   "language": "python",
   "name": "python3"
  },
  "language_info": {
   "codemirror_mode": {
    "name": "ipython",
    "version": 3
   },
   "file_extension": ".py",
   "mimetype": "text/x-python",
   "name": "python",
   "nbconvert_exporter": "python",
   "pygments_lexer": "ipython3",
   "version": "3.8.16"
  }
 },
 "nbformat": 4,
 "nbformat_minor": 5
}
