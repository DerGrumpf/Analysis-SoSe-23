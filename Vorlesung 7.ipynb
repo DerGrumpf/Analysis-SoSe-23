{
 "cells": [
  {
   "cell_type": "markdown",
   "id": "a94348af-f052-4cb1-9d18-7c693e61c6de",
   "metadata": {},
   "source": [
    "- $(a_n)^\\infty_{n=1} \\in\\mathbb{K}^\\mathbb{N}$ Zahlenfolge, $s_m := \\sum\\limits_{n=1}^m a_n$ Partielle Summe\n",
    "- $(s_m)^\\infty_{n=1} \\in\\mathbb{K}^\\mathbb{N}$ Reihe,\n",
    "- $\\in\\mathbb{K}^\\mathbb{N}$ absolut Konvergent $:\\Leftrightarrow (\\sum\\limits_{k=1}^m \\left|a_k\\right|)^\\infty_{m=1}$ konvergent\n",
    "- $(s_m)^\\infty_{n=1}$ absolut konvergent $\\Rightarrow$ Jede Umordnung ist auch absolut Konvergent und konvergiert gegen denselben Grenzwert"
   ]
  },
  {
   "cell_type": "markdown",
   "id": "39c1e544-87b1-48e2-9463-98299eb65948",
   "metadata": {},
   "source": [
    "### Wurzelkriterium\n",
    "\n",
    "- $\\limsup_{n \\longrightarrow \\infty} \\left|a_n\\right|^\\frac{1}{n} < 1 \\Rightarrow (s_m)^\\infty_{n=1}$ absolut konvergent,\n",
    "\n",
    "- $\\limsup_{n \\longrightarrow \\infty} \\left|a_n\\right|^\\frac{1}{n} > 1 \\Rightarrow (s_m)^\\infty_{n=1}$ divergent,"
   ]
  },
  {
   "cell_type": "markdown",
   "id": "02e2df80-866c-483d-b3db-f7a99995983d",
   "metadata": {},
   "source": [
    "### Quotientenkriterium\n",
    "\n",
    "- $\\limsup_{n \\longrightarrow \\infty} \\frac{\\left|a_{n+1}\\right|}{\\left|a_{n}\\right|} < 1 \\Rightarrow (s_m)^\\infty_{n=1}$ absolut konvergent,\n",
    "\n",
    "- $\\exists n_0 \\in\\mathbb{N} \\; \\forall n \\geq n_0: \\quad \\frac{\\left|a_{n+1}\\right|}{\\left|a_{n}\\right|} \\geq 1 \\Rightarrow (s_m)^\\infty_{n=1}$ divergent,"
   ]
  },
  {
   "cell_type": "markdown",
   "id": "5d660a8c-144c-4a18-a8b8-ff716ee5e761",
   "metadata": {},
   "source": [
    "## Beweis des Wurzelkriteriums\n",
    "\n",
    "Sei $\\limsup\\limits_{n \\longrightarrow \\infty} \\left|a_n\\right|^\\frac{1}{n} =: \\alpha < 1$. Für jedes $\\epsilon > 0$ können wir dann ein $n_0 \\in\\mathbb{N}$ finden, sodass \n",
    "$$\\forall n \\geq n_0:\\quad\\left|a_n\\right|^\\frac{1}{n}\\leq\\alpha+\\epsilon$$\n",
    "\n",
    "Mit $\\epsilon := \\frac{1}{2}(1-\\alpha) > 0$ erhalten wir ein $n_0$ so, dass \n",
    "\n",
    "$$\\forall n \\geq n_0:\\quad\\left|a_n\\right|^\\frac{1}{n}\\leq\\alpha+\\frac{1}{2}(1-\\alpha)=\\frac{1+\\alpha}{2} < 1$$\n",
    "\n",
    "Für $m\\geq n\\geq n_0$ ist also $$\\sum\\limits_{k=n}^m \\left|a_k\\right| = \\sum\\limits_{k=n}^m (\\left|a_k\\right|^\\frac{1}{k})^k \\leq \\sum\\limits_{k=n}^m (\\frac{1+\\alpha}{2})^k = (\\frac{1+\\alpha}{2})^n \\cdot \\sum\\limits_{j=0}^{m-n} (\\frac{1+\\alpha}{2})^j \\leq \\sum\\limits_{j=0}^\\infty (\\frac{1+\\alpha}{2})^j = (\\frac{1+\\alpha}{2})^n \\cdot \\frac{1}{1-\\frac{1+\\alpha}{2}} = (\\frac{1+\\alpha}{2})^n \\cdot (\\frac{2}{1-\\alpha}) \\longrightarrow 0, \\; n \\rightarrow\\infty$$\n",
    "\n",
    "$\\Rightarrow(\\sum\\limits_{n=1}^m a_n)_{m=1}^\\infty$ ist eine Cauchy-Folge, also divergent, und somit ist $(s_m)_{m=1}^\\infty$"
   ]
  },
  {
   "cell_type": "markdown",
   "id": "dca49bb3-8371-4676-bca1-d1e5780e2be2",
   "metadata": {},
   "source": [
    "# IV.4 Exponentialfunktion und trigonometrische Funktionen\n",
    "\n",
    "- Seien $z \\in\\mathbb{C} \\setminus\\{0\\}$ und $a_n := \\frac{z^n}{n!}$. Dann ist\n",
    "$$\\frac{\\left|a_{n+1}\\right|}{\\left|a_n\\right|} = \\frac{\\left|z\\right|^{n+1}\\cdot n!}{(n+1)!\\cdot\\left|z\\right|^n} = \\frac{\\left|z\\right|}{n+1} \\longrightarrow 0,\\; n \\rightarrow\\infty$$\n",
    "\n",
    "und nach dem Quotientenkriterium ist $(\\sum\\limits_{n=0}^m \\frac{z^n}{n!})_{m=1}^\\infty \\in\\mathbb{C}^\\mathbb{N}$ absolut konvergent. Wir schreiben\n",
    "\n",
    "$$exp[z] := e^z := \\sum\\limits_{n=0}^m \\frac{z^n}{n!}$$\n",
    "\n",
    "\n",
    "- Analog definieren wir zu $z \\in\\mathbb{C} {0}$:\n",
    "$$c_k := \\frac{(-1)^k\\cdot z^{2k}}{(2k)!},\\; s_k = \\frac{(-1)^k \\cdot z^{2k+1}}{(2k+1)!}, \\; k \\in\\mathbb{N}_0$$\n",
    "Wegen\n",
    "$$\\frac{\\left|c_{n+1}\\right|}{\\left|c_{n}\\right|} = \\frac{\\left|z\\right|^{2n+2} \\cdot (2n)!}{(2n+2)! \\cdot \\left|z\\right|^{2n}} = \\frac{\\left|z\\right|^{2}}{(2n+2)(2n+1)} \\longrightarrow 0, \\; n \\rightarrow \\infty$$\n",
    "\n",
    "$\\Rightarrow (\\sum\\limits_{k=0}^m c_k)_{m=1}^\\infty \\in\\mathbb{C}^\\mathbb{N}$ ist absolut konvergent,\n",
    "$\\cos[z] := \\sum\\limits^\\infty_{n=0} \\frac{(-1)^n\\cdot z^{2n}}{(2n)!}$ Kosinus.\n",
    "\n",
    "- Wir betrachten $\\left|s_n\\right|^\\frac{1}{n} = \\left|\\frac{(-1)^n \\cdot z^{2n+1}}{(2n+1)!}\\right|^\\frac{1}{n} = \\frac{\\left|z\\right|^2 \\cdot \\left|z\\right|^\\frac{1}{n}}{[(2n+1)!]^\\frac{1}{n}}$.\n",
    "Wir Schätzen $\\left|z\\right|^\\frac{1}{n} \\leq \\left|z\\right| + 1$ und $(2n+1)! = \\underbrace{(2n+1)\\cdot(2n) \\dots (n+1)}_{\\geq n^n} \\cdot\\underbrace{(n)\\cdot(n-1) \\dots 3 \\cdot 2 \\cdot 1}_{\\geq 1}$\n",
    "\n",
    "$$\\Rightarrow \\left|s_n\\right|^\\frac{1}{n} \\leq \\frac{\\left|z\\right|^2 \\cdot (\\left|z\\right| +1)}{[n^n]^\\frac{1}{n}} = \\frac{\\left|z\\right|^2 \\cdot (\\left|z\\right| +1}{n} \\longrightarrow 0, \\; n \\rightarrow \\infty$$\n",
    "\n",
    "$$\\Rightarrow (\\sum\\limits_{n=0}^m s_n)_{m=1}^\\infty \\in \\mathbb{C}^\\mathbb{N}$$ ist absolut konvergent, $\\sin[z] := \\sum\\limits^\\infty_{n=0} \\frac{(-1)^n\\cdot z^{2n+1}}{(2n+1)!}$, Sinus. $\\sin,\\cos: \\mathbb{C}\\rightarrow\\mathbb{C}$\n",
    "\n",
    "- $\\exp[z] = \\sum\\limits^\\infty_{k=0} \\frac{(iz)^n}{n!} = \\sum\\limits^\\infty_{k=0} \\frac{i^{2k} \\cdot z^{2k}}{(2k)!} + \\sum\\limits^\\infty_{n=0} \\frac{i^{2k+1} \\cdot z^{2k+1}}{(2k+1)!} = \\sum\\limits^\\infty_{n=0} \\frac{(-1)^k z^{2k}}{(2k)!} + i \\cdot \\sum\\limits^\\infty_{n=0} \\frac{(-1)^k z^{2k+1}}{(2k+1)!} = \\cos[z] + i \\cdot \\sin[z]$\n",
    "\n",
    "- Seien $z, w \\in\\mathbb{C}$. Dann betrachte $$e^z \\cdot e^w = (1+z+\\frac{z^2}{2!}+\\frac{z^3}{3!}+\\dots)(1+w+\\frac{w^2}{2!}+\\frac{w^3}{3!}+\\dots) = \\sum\\limits_{n=0}^\\infty \\frac{z^n}{n!}\\cdot\\sum\\limits_{m=0}^\\infty \\frac{w^m}{m!} = \\sum\\limits_{m,n=0}^\\infty \\frac{z^n\\cdot w^m}{n! \\cdot m!} = \\sum\\limits_{L=0}^\\infty \\sum\\limits_{n=0}^L \\frac{z^n \\cdot w^{L-n}}{n! \\cdot (L-n)!} = \\sum\\limits_{L=0}^\\infty \\frac{1}{L!} (\\sum\\limits_{n=0}^L \\frac{L!}{(L-n)! \\cdot n!} \\cdot z^n \\cdot w^{L-n}) = \\sum\\limits_{L=0}^\\infty \\frac{1}{L!}(z+w)^L = \\exp[z+w]$$"
   ]
  },
  {
   "cell_type": "markdown",
   "id": "64ab9c19-7ad1-4298-999a-637aa705126e",
   "metadata": {},
   "source": [
    "# VI Stetigkeit\n",
    "\n",
    "## VI.1 Offene, abgeschlossene und kompakte Mengen\n",
    "\n",
    "### Defintion VI.1\n",
    "\n",
    "- (i) Für alle $x \\in\\mathbb{K}$ und $r>0$ heißt\n",
    "$$B_\\mathbb{K}(x,r) := \\{y \\in \\mathbb{K} \\vert \\left|y-x\\right| < r\\}$$\n",
    "\n",
    "- (ii) Sei $S \\subseteq \\mathbb{K}$. Ein Punkt $x \\in A$ heißt innerer Punkt von $A :\\Leftrightarrow$\n",
    "$$\\exists r > 0:\\quad B_\\mathbb{K}(x,r) \\subseteq A$$\n",
    "\n",
    "- (iii) Sei $D \\subseteq \\mathbb{K}$ Ein Punkt $x \\in\\mathbb{K}$ heißt Häufungspunkt in $D :\\Leftrightarrow$\n",
    "\n",
    "$$\\forall r > 0: \\quad B_\\mathbb{K}(x,r) \\wedge (D \\setminus \\{x\\}) \\neq \\emptyset $$\n",
    "$$\\forall r > 0: \\quad \\exists y \\in D, y \\neq x:\\quad \\left|y-x\\right| < r.$$\n",
    "\n",
    "### Bemerkungen und Beispiele\n",
    "\n",
    "- Für $\\mathbb{K} = \\mathbb{R}$ ist $B_\\mathbb{R}(x,r) = (x-r, x+r)$\n",
    "- Für $\\mathbb{K} = \\mathbb{C}$ ist $B_\\mathbb{C}(z,r) =: D(z,r)$ die Kreisschreibe um z mit Radius r ($D$ für \"Disk\")\n",
    "- Sei $A = (-1, 3]$. Dann ist die Menge der inneren Punkte gegeben durch $B := \\{x \\in A \\vert x$ ist innerer Punkt von $A\\} = (-1,3)$"
   ]
  },
  {
   "cell_type": "code",
   "execution_count": null,
   "id": "6c8e1750-19d8-41ca-8d65-135edfc63f4c",
   "metadata": {},
   "outputs": [],
   "source": []
  }
 ],
 "metadata": {
  "kernelspec": {
   "display_name": "Python 3 (ipykernel)",
   "language": "python",
   "name": "python3"
  },
  "language_info": {
   "codemirror_mode": {
    "name": "ipython",
    "version": 3
   },
   "file_extension": ".py",
   "mimetype": "text/x-python",
   "name": "python",
   "nbconvert_exporter": "python",
   "pygments_lexer": "ipython3",
   "version": "3.8.16"
  }
 },
 "nbformat": 4,
 "nbformat_minor": 5
}
