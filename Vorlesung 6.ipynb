{
 "cells": [
  {
   "cell_type": "markdown",
   "id": "ad86f4b7-7def-4358-9c04-db7126f06d3f",
   "metadata": {},
   "source": []
  },
  {
   "cell_type": "markdown",
   "id": "07ac6794-0748-4d11-90a4-f55b3731daa8",
   "metadata": {},
   "source": [
    "## Bemerkungen & Beispiele\n",
    "\n",
    "- Harmonische Reihe: $(s_m)^\\infty_{n=1} = \\sum\\limits_{k=1}^m\\frac{1}{k}$ ist divergent, da $s_m \\sim\\ln{m}$, für große $m\\in\\mathbb{N}$, was nicht nach oben beschränkt ist."
   ]
  },
  {
   "cell_type": "code",
   "execution_count": 3,
   "id": "67d23ea4-ee65-4319-82d8-59541837521c",
   "metadata": {
    "tags": []
   },
   "outputs": [
    {
     "name": "stdout",
     "output_type": "stream",
     "text": [
      "Sum 499500\n",
      "Log 6.907755278982137\n"
     ]
    }
   ],
   "source": [
    "import numpy as np\n",
    "\n",
    "m = 1000\n",
    "sm = lambda m: np.sum(np.array(np.arange(1,m,1)))\n",
    "\n",
    "print(\"Sum\", sm(m))\n",
    "print(\"Log\", np.log(m))"
   ]
  },
  {
   "cell_type": "markdown",
   "id": "127e3f26-0dc3-4d9b-a2ad-affe5788eea7",
   "metadata": {},
   "source": [
    "- Für jedes $p > 1$ ist jedoch $(s_m)^\\infty_{n=1}$ konvergent, falls $s_m = \\sum\\limits_{k=1}^m\\frac{1}{k^p}$"
   ]
  },
  {
   "cell_type": "markdown",
   "id": "0467e007-05ad-451a-a2c5-236382dd103c",
   "metadata": {},
   "source": [
    "# V.2 Absolute Konvergenz\n",
    "\n",
    "## Definition V.4\n",
    "\n",
    "Eine Reihe $(\\sum\\limits_{k=1}^m a_k)_{m=1}^\\infty \\in\\mathbb{K}^\\mathbb{N}$ heißt __absolut konvergent__ $:\\Leftrightarrow (\\sum\\limits_{k=1}^m \\left|a_k\\right|)_{m=1}^\\infty\\in(\\mathbb{R}_0^+)^\\mathbb{N}$ konvergent.\n",
    "\n",
    "## Lemma V.5 \n",
    "Jede absolut konvergente Riehe ist auch konvergent.\n",
    "\n",
    "### Beweis\n",
    "Seien $\\sum\\limits_{k=1}^m a_k)_{m=1}^\\infty\\in\\mathbb{K}^\\mathbb{N}$ absolut konvergent und $\\epsilon > 0$. Dann gibt es ein $n_0\\in\\mathbb{N}$ so, dass $$\\forall m \\geq n \\geq n_0:\\;(\\sum\\limits_{k=1}^m \\left|a_k\\right|)_{m=1}^\\infty\\leq\\epsilon.$$\n",
    "\n",
    "Dann gilt aber auch \n",
    "$$\\forall m \\geq n \\geq n_0:\\; \\left|(\\sum\\limits_{k=1}^m a_k)_{m=1}^\\infty\\right| \\leq (\\sum\\limits_{k=1}^m \\left|a_k\\right|)_{m=1}^\\infty\\leq\\epsilon,$$\n",
    "und $(s_m)^\\infty_{n=1}$ ist nach dem Cauchy-Kriterium konvergent.\n",
    "\n",
    "## Bemerkung & Beispiele\n",
    "\n",
    "- Nicht jede konvergente Reihe ist auch absolut konvergent. Als Gegenbeispiel zu dieser Vermutung betrachten wir $(s_m)^\\infty_{n=1}\\in\\mathbb{K}^\\mathbb{N}$ mit $s_m = \\sum\\limits_{n=1}^m a_n,\\quad a_n := \\frac{(-1)^n}{n}$.\n",
    "\n",
    "Dann ist $$(\\sum\\limits_{n=1}^m \\left|a_n\\right|)_{m=1}^\\infty = (\\sum\\limits_{n=1}^m \\frac{1}{n})_{m=1}^\\infty$$ die harmonische Reihe und deshalb divergent. ALso ist $(s_m)^\\infty_{n=1}$ absolut konvergent."
   ]
  },
  {
   "cell_type": "markdown",
   "id": "bc22e0a0-dac9-4441-af9f-819ba6df22f0",
   "metadata": {},
   "source": [
    "Für $k \\in\\mathbb{N}$ und $m = 2k$ (gerade) ist \n",
    "\n",
    "$$s_{2k} = 1 - \\frac{1}{2} + \\frac{1}{3} - \\frac{1}{4} + \\dots + \\frac{1}{2k-1} - \\frac{1}{2k},$$\n",
    "$$s_{2k+1} = 1 - \\frac{1}{2} + \\frac{1}{3} - \\frac{1}{4} + \\dots + \\frac{1}{2k-1} - \\frac{1}{2k} + \\frac{1}{2k+1} = s_{2k} + \\frac{1}{2k+1} \\geq s_{2k},$$\n",
    "\n",
    "Weiterhin ist\n",
    "\n",
    "$$0 < s_{2k} = \\underbrace{(1 - \\frac{1}{2})}_{\\frac{1}{2}} + \\underbrace{(\\frac{1}{3} - \\frac{1}{4})}_{\\frac{1}{12}} + \\dots + \\underbrace{(\\frac{1}{2k-1} - \\frac{1}{2k})}_{\\frac{1}{(2k-1)2k}} \\leq \\frac{2}{(2k)^2}$$\n",
    "\n",
    "Also ist \n",
    "\n",
    "$$\\forall l \\geq k \\geq k_0: \\left|s_{sl} - s_{2k}\\right| \\leq \\frac{1}{2} \\sum\\limits_{j=k}^l \\frac{1}{j^2},$$\n",
    "\n",
    "und da $(\\sum\\limits_{k=1}^m a_k)_{m=1}^\\infty$ konvergent ist, ist auch $(s_{2k})_{k=1}^\\infty$ konvergent.\n",
    "\n",
    "Sei nun $a := \\lim\\limits_{k\\longrightarrow\\infty} s_{2k} > 0$. Dann ist für jedes $l \\in\\mathbb{N}$\n",
    "\n",
    "$$\\left|s_{2l+1} - a\\right| = \\left|s_{2l+1} - s_{2l} + s_{2l} -a\\right| \\leq \\left|s_{2l+1} - s_{2l}\\right| + \\left|s_{2l} - a\\right| = \\underbrace{\\frac{1}{2l+1}}_{\\leq\\frac{\\epsilon}{2}} + \\underbrace{\\left|s_{2l+1} - a\\right|}_{\\leq\\frac{\\epsilon}{2}} \\leq \\epsilon,$$\n",
    "\n",
    "für jedes $l$ genügend groß.\n",
    "\n",
    "also konvergiert insgesamt $(s_m)^\\infty_{n=1}$, und zwar $\\lim\\limits_{m\\longrightarrow\\infty} s_m = a$.\n",
    "\n",
    "Also ist $(\\sum\\limits_{n=1}^m \\frac{(-1)^n}{n})_{m=1}^\\infty$ konvergent, aber nicht absolut konvergent."
   ]
  },
  {
   "cell_type": "markdown",
   "id": "dc352c80-8dc2-4cea-b867-0bdbda47880a",
   "metadata": {
    "tags": []
   },
   "source": [
    "## Definition V.6\n",
    "\n",
    "Seien $(a_n)^\\infty_{n=1},\\;(b_n)^\\infty_{n=1}\\in\\mathbb{K}^\\mathbb{N}$ zwei Zahlenfolgen.\n",
    "\n",
    "Die Reihe $(\\sum\\limits_{n=1}^m b_n)_{m=1}^\\infty$ heißt __Umordnung der Reihe__ $(\\sum\\limits_{n=1}^m a_n)_{m=1}^\\infty :\\Leftrightarrow$\n",
    "\n",
    "\n",
    "\n",
    "Es gibt eine Bijektion $\\sigma:\\;\\mathbb{N}\\longrightarrow\\mathbb{N}$ so, dass $$\\forall n\\in\\mathbb{N}: \\quad b_n = a_{\\sigma(n)}$$"
   ]
  },
  {
   "cell_type": "markdown",
   "id": "228c4783-bdba-413d-97c7-158bd8bcd45b",
   "metadata": {},
   "source": [
    "## Satz V.7 [Großer Umordnungssatz]\n",
    "\n",
    "Seien $(\\sum\\limits_{n=1}^m a_n)_{m=1}^\\infty\\in\\mathbb{K}^\\mathbb{N}$ eine Reihe $(\\sum\\limits_{n=1}^m b_n)_{m=1}^\\infty\\in\\mathbb{K}^\\mathbb{N}$ eine Umordnung von $(\\sum\\limits_{n=1}^m a_n)_{m=1}^\\infty$\n",
    "\n",
    "- (i) $\\quad(\\sum\\limits_{n=1}^m a_n)_{m=1}^\\infty$ ist absolut konvergent $\\Leftrightarrow (\\sum\\limits_{n=1}^m b_n)_{m=1}^\\infty$ ist absolut konvergent\n",
    "\n",
    "- (ii) $\\quad(\\sum\\limits_{n=1}^m a_n)_{m=1}^\\infty$ ist absolut konvergent $\\Rightarrow \\sum\\limits_{n=1}^\\infty a_n = \\sum\\limits_{n=1}^\\infty b_n \\quad$ ($a_n$ und $b_n$ besitzen den selben Grenzwert)"
   ]
  },
  {
   "cell_type": "markdown",
   "id": "4445f4d2-0e53-4c6e-98b4-f1b06e21be16",
   "metadata": {},
   "source": [
    "## Satz V.8\n",
    "\n",
    "Seien $(\\sum\\limits_{n=1}^m a_n)_{m=1}^\\infty\\in\\mathbb{R}^\\mathbb{N}$ eine konvergente, aber nicht absolut konvergente Reihe und $\\alpha , \\beta \\in \\mathbb{R}, \\; \\alpha\\leq\\beta$, beliebig.\n",
    "\n",
    "Dann gibt es eine Umordnung $(t_m)_{m=1}^\\infty, \\; t_m = (\\sum\\limits_{n=1}^m a_{\\sigma(n)})_{m=1}^\\infty$, von $(\\sum\\limits_{n=1}^m a_n)_{m=1}^\\infty$ so, dass\n",
    "\n",
    "$$\\liminf\\limits_{m \\longrightarrow\\infty} t_m = \\alpha,\\quad \\limsup\\limits_{m \\longrightarrow\\infty} t_m = \\beta.$$\n",
    "\n",
    "Bemerkung: Für $\\alpha = \\beta$ heißt, dass $(\\sum\\limits_{n=1}^m a_{\\sigma(n)})_{m=1}^\\infty$ gegen $\\alpha$ konvergiert."
   ]
  },
  {
   "cell_type": "markdown",
   "id": "ffaa9353-03d1-4d35-aa56-8387713ed8bc",
   "metadata": {},
   "source": [
    "# V.3 Konvergenzkriterien:\n",
    "\n",
    "## Satz V.10 [Majorantenkriterium]\n",
    "\n",
    "- (i) Ist $(a_n)^\\infty_{n=1}\\in\\mathbb{K}^\\mathbb{N}$ eine Zahlenfolge und $(b_n)^\\infty_{n=1}\\in\\mathbb{R_0^+}^\\mathbb{N}$ eine Zahlenfolge nicht negativer Zahlen so, dass $(\\sum\\limits_{n=1}^m b_n)_{m=1}^\\infty$ konvergiert und $\\left|a_n\\right| \\leq b_n$, für jedes $n\\in\\mathbb{N}$, so konvergiert $(\\sum\\limits_{n=1}^m a_n)_{m=1}^\\infty$ absolut.\n",
    "\n",
    "- (ii) Sind $(a_n)^\\infty_{n=1},\\;(b_n)^\\infty_{n=1}\\in\\mathbb{R_0^+}^\\mathbb{N}$ nicht negative Zahlenfolgen mit $a_n \\geq b_n$ und $(\\sum\\limits_{n=1}^m b_n)_{m=1}^\\infty$ divergent, so ist auch $(\\sum\\limits_{n=1}^m a_n)_{m=1}^\\infty$ divergent."
   ]
  },
  {
   "cell_type": "markdown",
   "id": "df0ce76c-fbd0-4cbb-8789-92666b47f7fc",
   "metadata": {},
   "source": [
    "## Satz V.11 [Wurzelkriterium]\n",
    "\n",
    "Sei $(a_n)^\\infty_{n=1}\\in\\mathbb{K}^\\mathbb{N}$ eine Zahlenfolge.\n",
    "\n",
    "- (i) $\\quad (\\limsup\\limits_{n \\longrightarrow \\infty} \\left|a_n\\right|^\\frac{1}{n} < 1) \\Rightarrow ((\\sum\\limits_{n=1}^m a_n)_{m=1}^\\infty$ ist absolut konvergent$)$\n",
    "\n",
    "- (ii) $\\quad (\\limsup\\limits_{n \\longrightarrow \\infty} \\left|a_n\\right|^\\frac{1}{n} > 1) \\Rightarrow ((\\sum\\limits_{n=1}^m a_n)_{m=1}^\\infty$ ist divergent$)$"
   ]
  },
  {
   "cell_type": "markdown",
   "id": "c37760e8-f90f-4a06-b4eb-e898820151ad",
   "metadata": {},
   "source": [
    "## Satz V.12 [Quotientenkriterum]\n",
    "\n",
    "Sei $(a_n)^\\infty_{n=1} \\in(\\mathbb{K}\\{0\\})^\\mathbb{N}$. Dann gelten \n",
    "\n",
    "- (i) $\\quad (\\limsup\\limits_{n \\longrightarrow \\infty} \\frac{\\left|a_{n+1}\\right|}{\\left|a_{n}\\right|} < 1) \\Rightarrow ((\\sum\\limits_{n=1}^m a_n)_{m=1}^\\infty$ ist absolut konvergent$)$\n",
    "\n",
    "- (ii) Gibt es $n_0\\in\\mathbb{N}$ so, dass $$\\forall$$"
   ]
  },
  {
   "cell_type": "code",
   "execution_count": null,
   "id": "1eac35a8-629f-4294-b7cc-b3156399a224",
   "metadata": {},
   "outputs": [],
   "source": []
  }
 ],
 "metadata": {
  "kernelspec": {
   "display_name": "Python 3 (ipykernel)",
   "language": "python",
   "name": "python3"
  },
  "language_info": {
   "codemirror_mode": {
    "name": "ipython",
    "version": 3
   },
   "file_extension": ".py",
   "mimetype": "text/x-python",
   "name": "python",
   "nbconvert_exporter": "python",
   "pygments_lexer": "ipython3",
   "version": "3.8.16"
  }
 },
 "nbformat": 4,
 "nbformat_minor": 5
}
