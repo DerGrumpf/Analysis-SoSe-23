{
 "cells": [
  {
   "cell_type": "markdown",
   "id": "d4308114-42c9-45ed-8408-ca3ccf02d376",
   "metadata": {},
   "source": [
    "# Analysis"
   ]
  },
  {
   "cell_type": "markdown",
   "id": "d71dcb15-c1c4-493d-a65d-34a957fe520c",
   "metadata": {},
   "source": [
    "## II. Reelle Zahlen\n",
    "\n",
    "### II.1 Körper\n",
    "\n",
    "Wir kennnen \n",
    "\n",
    "(II. 1)$$ \\mathbb{N} = \\{1, 2, 3, \\dots \\} $$\n",
    "(II. 2)$$\\mathbb{Z} = \\{ \\dots , -2, 1, 0 , 1, 2, \\dots \\}$$ \n",
    "(II. 3)$$\\mathbb{Q} = \\{ \\frac{p}{q} \\;\\vert\\; p \\in\\mathbb{Z}, q \\in\\mathbb{N}\\} \\supseteq \\mathbb{N}$$ \n",
    "\n",
    "- zwei natürliche Zahlen können miteinadner addiert und multipliziert werden, das Ergebnis ist eine natürliche Zahl:\n",
    "$$\\forall m,n \\in \\mathbb{N}: m+n, m\\cdot n \\in \\mathbb{N}$$\n",
    "\n",
    "- Die Differenz zweier natürlicher Zahlen ist i. A. nicht stets eine netürliche Zahl, aber eine ganze Zahl:\n",
    "$$\\forall k,l \\in\\mathbb{Z}: k+l, k-l, k\\cdot l \\in\\mathbb{Z}$$\n",
    "\n",
    "- Der Quotient zweier ganzer Zahlen ist i. A. nicht stets ganzzahlig, aber eine rationale Zahl:\n",
    "$$\\forall p = \\frac{m_1}{n_1}, q = \\frac{m_2}{n_2}, m_1, m_2 \\in\\mathbb{Z} \\; n_1,n_2 \\in\\mathbb{N}:$$\n",
    "\n",
    "$$p\\pm q = \\frac{m_1\\cdot n_2 \\pm m_2 \\cdot n_1}{n_1 \\cdot n_2}$$\n",
    "\n",
    "$$p\\cdot q = \\frac{m_1\\cdot m_2}{n_1 \\cdot n_2}$$\n",
    "\n",
    "$$\\frac{p}{q} = \\frac{m_1\\cdot n_2}{n_1 \\cdot m_2}$$\n",
    "\n",
    "falls $m_2 \\neq 0 $"
   ]
  },
  {
   "cell_type": "markdown",
   "id": "239be5bc-0b77-419a-bb79-e0b0c9f99753",
   "metadata": {},
   "source": [
    "### Definition II.1\n",
    "\n",
    "Eine nichtleere Menge $\\mathbb{F}\\neq\\emptyset$ heißt Körper: $\\Leftrightarrow$\n",
    "\n",
    "auf $\\mathbb{F}$ sind Addition (+): $$\\mathbb{F}\\times\\mathbb{F} \\rightarrow \\mathbb{F}$$\n",
    "\n",
    "und Multiplikation ($\\cdot$): $$\\mathbb{F}\\times\\mathbb{F} \\rightarrow \\mathbb{F}$$\n",
    "\n",
    "definiert die folgene Eigenschaft besitzen:\n",
    "\n",
    "- (i) $\\mathbb{F}$ ist bzgl. Addition eine kommutative Gruppe mit neutralem Element 0, d.h. es gelten:\n",
    "\n",
    "$$0 + a = a, \\quad\\forall a\\in\\mathbb{F}$$\n",
    "\n",
    "und weiterhin\n",
    "\n",
    "(II.5) $$\\forall a,b,c,d \\in\\mathbb{F}: (a+b)+c = a+(b+c), a+b=b+a$$\n",
    "\n",
    "(II.6) $$\\forall a\\in\\mathbb{F}\\quad\\exists (-a)\\in\\mathbb{F}:\\quad a+(-a) = 0$$\n",
    "\n",
    "- (ii) $\\mathbb{F} \\backslash \\{0\\}$ ist bzgl. Multiplikation eine kommutative Gruppe mit neutralem Element $1 \\in\\mathbb{F}\\backslash\\{0\\}$, d.h. es gelten $1\\cdot a = a\\quad\\forall a\\in\\mathbb{F}$, und weiterhin \n",
    "\n",
    "(II.7) $$\\forall a,b,c,d \\in\\mathbb{F}: (a\\cdot b)\\cdot c = a\\cdot(b\\cdot c), a\\cdot b=b \\cdot a$$\n",
    "\n",
    "(II.8) $$\\forall a\\in\\mathbb{F}\\backslash\\{0\\} \\quad\\exists\\frac{1}{a}\\in\\mathbb{F}:\\quad a \\cdot\\frac{1}{a} = 1$$\n",
    "\n",
    "- (iii) Es gilt das Distributivgesetz:\n",
    "\n",
    "(II.9) $$\\forall a,b,c \\in\\mathbb{F}: a\\cdot (b+c) = a\\cdot b + a\\cdot c$$"
   ]
  },
  {
   "cell_type": "markdown",
   "id": "a958a458-e28d-4f9e-b520-37afefa393fd",
   "metadata": {},
   "source": [
    "#### Bemerkungen & Beispiele\n",
    "\n",
    "- Folgerung (II.7)\n",
    "\n",
    "$$0+0 = 0 \\Rightarrow 0 \\cdot a + 0 \\cdot a = (0+0) \\cdot a = 0\\cdot a \\quad\\forall a\\in\\mathbb{F}$$\n",
    "\n",
    "$$\\Rightarrow \\forall a \\in\\mathbb{F}: \\; 0\\cdot a = 0 \\Rightarrow 1 \\cdot 0 = 0, \\quad \\; a,b,c \\in\\mathbb{F}$$\n",
    "\n",
    "- $ \\mathbb{F} \\supseteq \\{1, 0\\}$\n",
    "\n",
    "$$\\{1, 0\\} = \\mathbb{Z_2}$$\n",
    "\n",
    "ist ein Körper mit:\n",
    "\n",
    "$$ 0+1 = 1+0,\\quad 0+0=0,\\quad 1+1=0, \\quad 0 \\cdot 0 = 0\\cdot 1 = 1\\cdot 0 = 0, \\quad 1\\cdot 1 = 1$$\n",
    "\n",
    "- $\\mathbb{Q}$ ist ein Körper (Beweis durch Nachprüfen der Eigenschaften (i), (ii), (iii) as Def. II.1).\n",
    "\n",
    "\n",
    "\n",
    "Frage: Was ist die kleinste obere Schranke an A?\n",
    "\n",
    "$$A := \\{ p \\in\\mathbb{Q} \\vert p^2 < 2 \\} \\subseteq \\mathbb{Q}$$"
   ]
  }
 ],
 "metadata": {
  "kernelspec": {
   "display_name": "Python 3 (ipykernel)",
   "language": "python",
   "name": "python3"
  },
  "language_info": {
   "codemirror_mode": {
    "name": "ipython",
    "version": 3
   },
   "file_extension": ".py",
   "mimetype": "text/x-python",
   "name": "python",
   "nbconvert_exporter": "python",
   "pygments_lexer": "ipython3",
   "version": "3.10.9"
  }
 },
 "nbformat": 4,
 "nbformat_minor": 5
}
