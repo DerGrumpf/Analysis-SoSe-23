{
 "cells": [
  {
   "cell_type": "markdown",
   "id": "74063a09-4181-4970-9dd3-c56dd9695bdf",
   "metadata": {},
   "source": [
    "- $(a_n)^\\infty_{n=1} \\in\\mathbb{K}^\\mathbb{N}$ Zahlenfolge (ZF) konvergent $:\\Leftrightarrow\\exists a \\in\\mathbb{K} \\quad\\forall\\epsilon > 0 \\quad\\exists n_0 \\in\\mathbb{N} \\quad\\forall n \\geq n_0: \\quad\\vert a_n-a \\vert\\leq \\epsilon $ "
   ]
  },
  {
   "cell_type": "markdown",
   "id": "48891e09-6b1a-4a64-badb-6cda0ddcf1cc",
   "metadata": {},
   "source": [
    "## Satz IV. 3\n",
    "\n",
    "Seien $(a_n)^\\infty_{n=1}, (b_n)^\\infty_{n=1} \\in\\mathbb{K}^\\mathbb{N}$ konvergent ZF.\n",
    "\n",
    "Dann ist $(a_n\\cdot b_n)_{n=1}^\\infty$ konvergent, und zwar\n",
    "\n",
    "$$\\lim_{n \\rightarrow \\infty}\\{a_n\\cdot b_n\\} = \\lim_{n \\rightarrow \\infty}\\{a_n\\} \\cdot \\lim_{n \\rightarrow \\infty}\\{b_n\\}$$\n",
    "\n",
    "Sind außerdem $b_n \\neq 0 \\; \\forall n \\in \\mathbb{N}$ und $\\lim_{n \\rightarrow \\infty}\\{b_n\\}\\neq 0$, so ist $(\\frac{a_n}{b_n})^\\infty_{n=1}$ konvergent und $\\lim_{n \\rightarrow \\infty}\\{\\frac{a_n}{b_n}\\} = \\frac{\\lim_{n \\rightarrow \\infty}\\{a_n\\}}{\\lim_{n \\rightarrow \\infty}\\{b_n\\}}$\n",
    "\n",
    "Beweisidee:\n",
    "\n",
    "$\\lim_{n \\rightarrow \\infty}\\{a_n\\} =: a, \\quad \\lim_{n \\rightarrow \\infty}\\{b_n\\}=:b$, dann \n",
    "\n",
    "$$$$"
   ]
  },
  {
   "cell_type": "markdown",
   "id": "d6a256ad-f293-4df0-b820-586e863437af",
   "metadata": {},
   "source": [
    "### Beispiele\n",
    "\n",
    "- Sei $\\alpha\\in\\mathbb{K}$ und $a_n = \\alpha \\;\\forall n \\in\\mathbb{N}$, d.h.\n",
    "$$(a_1, a_2, a_3, a_4, \\dots) = (\\alpha,\\alpha,\\alpha,\\alpha,\\dots)$$\n",
    "$\\Rightarrow (a_n)^\\infty_{n=1}$ ist konvergent, $a_n \\rightarrow \\alpha, \\; n \\rightarrow\\infty$.\n",
    "\n",
    "- Seien $$b_n = \\frac{3n^2-4n+(-1)^n}{6+n^2+7n}, \\quad n\\in\\mathbb{N} $$\n",
    "\n",
    "$$\\Rightarrow b_n = \\frac{\\frac{1}{n^2}(3n^2-4n+(-1)^n)}{\\frac{1}{n^2}(6+n^2+7n)} =\n",
    "\\frac{3-\\frac{4}{n}+\\frac{(-1)^n}{n^2}}{\\frac{6}{n^2}+1+\\frac{7}{n}}$$\n",
    "\n",
    "$$\n",
    "\\lim_{n \\rightarrow \\infty}\\{b_n\\} = \\lim_{n \\rightarrow \\infty}\\{\\frac{3-\\frac{4}{n}+\\frac{(-1)^n}{n^2}}{\\frac{6}{n^2}+1+\\frac{7}{n}}\\} = \\frac{\\lim_{n \\rightarrow \\infty}\\{ \\frac{3-\\frac{4}{n}+\\frac{(-1)^n}{n^2}} \\}}{\\lim_{n \\rightarrow \\infty}\\{ {\\frac{6}{n^2}+1+\\frac{7}{n}} \\}}\n",
    "= \\frac{\\lim_{n \\rightarrow \\infty}\\{3\\} - \\lim_{n \\rightarrow \\infty}\\{\\frac{4}{n}\\} + \\lim_{n \\rightarrow \\infty}\\{\\frac{(-1)^n}{n^2}\\}}{\\lim_{n \\rightarrow \\infty}\\{\\frac{6}{n^2}\\} + \\lim_{n \\rightarrow \\infty}\\{1\\} + \\lim_{n \\rightarrow \\infty}\\{\\frac{7}{n}\\}} = \\frac{3-0+0}{0+1+0} = 3\n",
    "$$\n",
    "\n",
    "- $c_n :=$\n",
    "\n",
    "$$\n",
    "\\frac{2^n+3^{n-4}-1}{n^6+2^{n+3}+3^{n+1}} = \\frac{3^{-n}(2^n+3^{n-4}-1)}{3^{-n}(n^6+2^{n+3}+3^{n+1})} =\n",
    "\\frac{\\frac{2}{3}^n + 3^{-4} - \\frac{1}{3}^n}{\\frac{n^6}{3^n} + \\frac{2}{3}^n \\cdot 2^3 + 3} \\rightarrow \\frac{0 + \\frac{1}{81} - 0}{0 + 0 + 3} = \\frac{1}{243} \\quad n\\rightarrow\\infty\n",
    "$$"
   ]
  },
  {
   "cell_type": "markdown",
   "id": "745e268e-15c4-487f-b4d3-0f15fcb64e55",
   "metadata": {},
   "source": [
    "## IV.2 Reelle Zahlenfolgen und Monotonie\n",
    "\n",
    "### Definition IV.4:\n",
    "\n",
    "Eine reelle ZF $(a_n)^\\infty_{n=1} \\in \\mathbb{R}^\\mathbb{N}$ heißt\n",
    "\n",
    "- monoton steigend $:\\leftrightarrow \\forall n \\in\\mathbb{N}:\\; a_n \\leq a_{n+1}$,\n",
    "- streng monoton steigend $:\\leftrightarrow \\forall n \\in\\mathbb{N}:\\; a_n < a_{n+1}$,\n",
    "- monoton fallend $:\\leftrightarrow \\forall n \\in\\mathbb{N}:\\; a_n \\geq a_{n+1}$,\n",
    "- streng monoton fallend $:\\leftrightarrow \\forall n \\in\\mathbb{N}:\\; a_n > a_{n+1}$,\n",
    "\n",
    "### Satz IV.5:\n",
    "\n",
    "Sei $(a_n)^\\infty_{n=1} \\in \\mathbb{R}^\\mathbb{N}$ eine reelle ZF.\n",
    "\n",
    "- (i) Ist $(a_n)^\\infty_{n=1}$ nach oben beschränkt und monoton steigend, so ist $(a_n)^\\infty_{n=1}$ konvergent.\n",
    "- (ii) Ist $(a_n)^\\infty_{n=1}$ nach unten beschränkt und monotn fallend, so ist $(a_n)^\\infty_{n=1}$ konvergent.\n",
    "\n",
    "#### Beweis von (i):\n",
    "\n",
    "$(a_n)^\\infty_{n=1}$ nach oben beschränkt $\\Leftrightarrow A := \\{a_1, a_2, a_3, \\dots\\} \\subseteq \\mathbb{R}$ ist n.o. beschränkt. (durch $\\mathbb{R} < \\infty$)"
   ]
  },
  {
   "cell_type": "code",
   "execution_count": 17,
   "id": "02f84edb-cc8b-48b9-bf5e-da68c3041305",
   "metadata": {
    "tags": []
   },
   "outputs": [
    {
     "data": {
      "image/png": "[encoded data removed]",
      "text/plain": [
       "<Figure size 640x480 with 1 Axes>"
      ]
     },
     "metadata": {},
     "output_type": "display_data"
    }
   ],
   "source": [
    "import numpy as np\n",
    "import matplotlib.pyplot as plt\n",
    "\n",
    "x = np.linspace(1,10,num=10)\n",
    "y = np.array([0.1, 0.2, 0.3, 0.3, 0.4, 0.5, 0.6, 0.6, 0.8, 0.9])\n",
    "\n",
    "plt.scatter(x, y)\n",
    "plt.plot(x,y)\n",
    "plt.plot(x, [0.911111 for _ in range(10)])\n",
    "plt.show()"
   ]
  },
  {
   "cell_type": "markdown",
   "id": "b2e1b8b7-2cb6-44eb-ac73-95fadb0fdf6f",
   "metadata": {},
   "source": [
    "Sei $a = \\sup A \\in \\mathbb{R}$. Sei $\\epsilon > 0$, dann gibt es nach Definition des Supremums ein $n_0 \\in \\mathbb{N}$ so, dass $a \\geq a_{n_0} \\geq a-\\epsilon$. Damit gilt für alle $n \\geq n_0$ wegen der Monotonie $a \\geq a_n \\geq a_{n_0} \\geq a - \\epsilon \\; \\Rightarrow \\; \\vert a_n-a \\vert \\leq \\epsilon \\Rightarrow a_n \\longrightarrow a, n \\longrightarrow \\infty$"
   ]
  },
  {
   "cell_type": "markdown",
   "id": "ac6fc5f7-c772-48b1-add7-e5a7b84e4111",
   "metadata": {},
   "source": [
    "### Definition IV.6\n",
    "\n",
    "Sei $(a_n)^\\infty_{n=1} \\in \\mathbb{R}^\\mathbb{N}$ eine reelle ZF.\n",
    "\n",
    "(i.a) Ist $(a_n)^\\infty_{n=1}$ nicht nach oben beschränkt, so setzen wir \n",
    "\n",
    "$$\\limsup_{n \\rightarrow \\infty}\\{a_n\\} := \\overline\\lim_{n \\rightarrow \\infty}\\{a_n\\} := \\infty$$\n",
    "\n",
    "(\"$\\infty$\" ist nur ein Symbol.)\n",
    "\n",
    "(i.b) Ist $(a_n)^\\infty_{n=1}$ nach oben beschränkt und ist $(c_m)^\\infty_{m=1} \\in \\mathbb{R}^\\mathbb{N}$ mit $c_m := \\sup{\\{a_m, a_{m+1}, a_{m+2}, \\dots\\}}$, nicht nach unten beschränkt, so setzen wir $\\limsup_{n \\rightarrow \\infty}\\{a_n\\} = -\\infty$\n",
    "\n",
    "(i.c) Ist $(a_n)^\\infty_{n=1}$ nach oben beschränkt und $(c_m)^\\infty_{m=1}$, mit $c_m = \\sup{\\{a_m, a_{m+1}, a_{m+2}, \\dots\\}}$\n",
    "\n",
    "(ii) $\\liminf_{n \\rightarrow \\infty}\\{a_n\\} := -\\limsup_{n \\rightarrow \\infty}\\{-a_n\\} (=\\underline\\lim_{n \\rightarrow \\infty}\\{a_n\\}$, nach unten beschränkt, so setzen wir $\\limsup_{n \\rightarrow \\infty}\\{a_n\\} := \\limsup_{n \\rightarrow \\infty}\\{c_m\\} = \\lim_{n \\rightarrow \\infty}\\{\\sup_{n\\geq m }\\{a_n\\}\\}$\n",
    "\n",
    "- $\\limsup_{n \\rightarrow \\infty}\\{a_n\\} \\in\\mathbb{R} \\cup \\{-\\infty, \\infty\\} $ heißt Limes superior\n",
    "- $\\liminf_{n \\rightarrow \\infty}\\{a_n\\} \\in\\mathbb{R} \\cup \\{-\\infty, \\infty\\} $ heißt Limes inferior\n",
    "\n",
    "von $(a_n)^\\infty_{n=1}$.\n",
    "\n",
    "#### Bemerkungen und Beispiele \n",
    "\n",
    "- $a_n = n \\;\\Rightarrow (a_n)^\\infty_{n=1}$ ist nicht nach oben beschränkt $\\Rightarrow$ (i.a): $\\limsup_{n \\rightarrow \\infty}\\{n\\} = \\infty$\n",
    "\n",
    "- $a_n = -n \\;\\Rightarrow (a_n)^\\infty_{n=1}$ ist nach oben beschränkt, etwa $a_n \\leq 0$\n",
    "$$c_m = \\sup{\\{a_m, a_{m+1}, a_{m+2}, \\dots\\}} = \\sup{\\{-m, -m-1, -m-2, \\dots\\}} = -m$$\n",
    "$\\Rightarrow (c_m)^\\infty_{m=1}$ ist nicht nach unten beschränkt $\\Rightarrow$ (i.b) $\\limsup_{n \\rightarrow \\infty}\\{a_n\\} = -\\infty$\n",
    "\n",
    "- Seien $(a_n)^\\infty_{n=1} \\in \\mathbb{R}^\\mathbb{N}$ nach oben beschränkt und $(c_m)^\\infty_{m=1}\\in \\mathbb{R}^\\mathbb{N}$ mit $c_m = \\sup{\\{a_m, a_{m+1}, a_{m+2}, \\dots\\}} = \\max{(a_m, \\sup{\\{a_m, a_{m+1}, a_{m+2}, \\dots\\}})} = \\max(a_m, c_{m+1}) \\geq c_{m+1}$ monoton fallend und somit konvergent ist. Ihr Grenzwert ist gerade der Limes superior von $(a_n)^\\infty_{n=1}$."
   ]
  },
  {
   "cell_type": "markdown",
   "id": "bd27b967-aa35-4edd-831c-7fab021e6318",
   "metadata": {},
   "source": [
    "### Satz IV.7\n",
    "\n",
    "Sei $(a_n)^\\infty_{n=1} \\in \\mathbb{R}^\\mathbb{N}$ eine reelle ZF. Dann sind folgende Charakterisierungen gleichwertig:\n",
    "\n",
    "$$limsup_{n \\rightarrow \\infty}\\{a_n\\} = \\overline{a} \\in\\mathbb{R}$$ (existiert als reelle Zahl $a_n - \\overline{a} \\leq \\epsilon $)\n",
    "\n",
    "$$\\Leftrightarrow \\{\\forall\\epsilon > 0\\; \\exists n_0 \\in\\mathbb{N} \\; \\forall n \\geq n_0: \\quad a_n \\leq \\overline{a} + \\epsilon$$ und $$\\forall\\epsilon > 0\\; \\exists n_0 \\in\\mathbb{N} \\; \\forall n \\geq n_0: \\quad a_n \\leq \\overline{a} - \\epsilon\\}$$ $\\Leftrightarrow \\overline{a}$ ist der größte Häufungspunkt von $(a_n)^\\infty_{n=1}$."
   ]
  },
  {
   "cell_type": "code",
   "execution_count": null,
   "id": "cfaa4387-35e8-456b-a94d-764f58f36432",
   "metadata": {},
   "outputs": [],
   "source": []
  }
 ],
 "metadata": {
  "kernelspec": {
   "display_name": "Python 3 (ipykernel)",
   "language": "python",
   "name": "python3"
  },
  "language_info": {
   "codemirror_mode": {
    "name": "ipython",
    "version": 3
   },
   "file_extension": ".py",
   "mimetype": "text/x-python",
   "name": "python",
   "nbconvert_exporter": "python",
   "pygments_lexer": "ipython3",
   "version": "3.10.9"
  }
 },
 "nbformat": 4,
 "nbformat_minor": 5
}
