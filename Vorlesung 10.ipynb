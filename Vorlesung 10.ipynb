{
 "cells": [
  {
   "cell_type": "markdown",
   "id": "d01a23d0-f16e-44a6-aa8a-6fcdf1b3e76b",
   "metadata": {},
   "source": [
    "$U \\subseteq \\mathbb{R}, U \\neq \\emptyset$ offen $(\\Rightarrow \\forall x_0 \\in U \\; \\exists r > 0: \\quad (x_0-r, x_0+r) \\subseteq U)$"
   ]
  },
  {
   "cell_type": "markdown",
   "id": "4c337b06-b60b-4a42-9f85-57ad9b2ec53a",
   "metadata": {},
   "source": [
    "$f: U \\longrightarrow \\mathbb{R}$ diffbar bei $x_0$\n",
    "\n",
    "$\\Leftrightarrow f^\\prime(x_0) := \\frac{df}{dx} (x_0) := (\\frac{d}{dx} f)(x_0) := \\lim_{x \\rightarrow x_0} \\frac{f(x) - f(x_0)}{x-x_0} \\in \\mathbb{R}$ existiert. $f^\\prime(x_0)$ Ableitung von $f$ bei $x_0$."
   ]
  },
  {
   "cell_type": "markdown",
   "id": "01f39e50-781b-4619-bd03-7ba35046d846",
   "metadata": {},
   "source": [
    "$\\frac{f(x) - f(x_0)}{x-x_0}$ heißt (für $x \\neq x_0$) Differenzquotient\n",
    "\n",
    "$f$ heißt diff'bar auf $U:\\Leftrightarrow \\forall x_0 \\in U: \\quad f$ ist diff'bar bei $x_0$."
   ]
  },
  {
   "cell_type": "markdown",
   "id": "332c904b-075c-4564-ad3d-94d52c8e9689",
   "metadata": {},
   "source": [
    "## Lemma VII.2\n",
    "\n",
    "Seien $U \\subseteq \\mathbb{R}, U \\neq \\emptyset$ offen und $f: U \\rightarrow \\mathbb{R}$.\n",
    "\n",
    "Dann gilt folgende Äquivalenz.\n",
    "\n",
    "[$f$ ist bei $x_0 \\in U$ diff'bar] $\\Leftrightarrow$ {$\\exists c \\in \\mathbb{R} \\; \\forall \\epsilon > 0 \\; \\exists \\delta > 0 \\;\\forall x \\in U, \\; \\left|x-x_0\\right| < \\delta: \\quad \\left|f(x) - (f(x_0) + c \\cdot (x-x_0))\\right| \\leq \\epsilon \\cdot \\left|x-x_0\\right|$} (VI.4)\n",
    "\n",
    "In diesem Fall ist $c$ eindeutig durch $c=f^\\prime(x_0)$ gegeben."
   ]
  },
  {
   "cell_type": "markdown",
   "id": "c016391d-db13-4ca9-933a-8f8ffed1cfba",
   "metadata": {},
   "source": [
    "---\n",
    "Die Ableitung wird mit einer Tangente an $f(x_0) + c \\cdot (x-x_0)$ bestimmt. Wie groß ist der Fehler zu $f(x)$\n",
    "\n",
    "Wenn dir funktion diff'bar ist dann gibt es für $c$ eine bestmögliche wahl, da der Fehler beliebig klein wird.\n",
    "\n",
    "$c$ definiert die beste lineare Approximation an $f(x)$\n",
    "\n",
    "---"
   ]
  },
  {
   "cell_type": "markdown",
   "id": "e2f15410-7f05-4cc8-8260-a14329e0ea79",
   "metadata": {},
   "source": [
    "## Lemma VII.3\n",
    "\n",
    "Seien $U \\subseteq \\mathbb{R}, U \\neq \\emptyset$ offen und $f: U \\rightarrow \\mathbb{R}$ diff'bar bei $x_0 \\in U$. Dann ist $f$ stetig in $x_0$."
   ]
  },
  {
   "cell_type": "markdown",
   "id": "08d1eea4-c30d-48b8-8f04-dabbe2a103f4",
   "metadata": {},
   "source": [
    "## Satz VII.4\n",
    "\n",
    "Seien $U \\subseteq \\mathbb{R}, U \\neq \\emptyset$ offen, $f,g: U \\rightarrow \\mathbb{R}$ diff'bar bei $x_0 \\in U$ und $\\alpha \\in \\mathbb{R}$. Dann sind $(f+\\alpha g), (f \\cdot g): U \\rightarrow \\mathbb{R}$ diff'bar bei $x_0$, und es gelten die folgenden Regeln:\n",
    "\n",
    "- (i) Linearität:\n",
    "\n",
    "$$(f+\\alpha g)^\\prime(x_0) = f^\\prime(x_0) + \\alpha\\cdot g^\\prime(x_0),$$\n",
    "\n",
    "- (ii) Produktregel:\n",
    "\n",
    "$$(f \\cdot g)^\\prime(x_0) = f(x_0)^\\prime\\cdot g(x_0) + f(x_0)\\cdot g(x_0)^\\prime$$\n",
    "\n",
    "- (iii) Quotientenregel:\n",
    "\n",
    "Ist $g(x_0) \\neq 0$, ist auch $\\frac{f}{g}$ bei $x_0$ diff'bar und es gilt $$(\\frac{f}{g})^\\prime(x_0) = \\frac{f(x_0)^\\prime\\cdot g(x_0) - f(x_0)\\cdot g(x_0)^\\prime}{g(x_0)^2}$$"
   ]
  },
  {
   "cell_type": "markdown",
   "id": "459cb541-b406-4116-86c7-ba59826d6f71",
   "metadata": {},
   "source": [
    "### Bemerkung\n",
    "\n",
    "Die Linearität bedeutet \n",
    "\n",
    "$$(\\frac{d}{dx} [(f+\\alpha g)])(x_0) = (\\frac{d}{dx} f)(x_0) + \\alpha\\cdot (\\frac{d}{dx} g)(x_0)$$"
   ]
  },
  {
   "cell_type": "markdown",
   "id": "e51743df-81bc-460f-a231-e6ac8ec4d39c",
   "metadata": {},
   "source": [
    "### Beweis [nur Quotientenregel]:\n",
    "\n",
    "sei $g(x_0) \\neq 0$. Da $g$ bei $x_0$ diff'bar ist, ist $g$ in $x_0$ auch stetig, und es gibt ein $r > 0$ so, dass\n",
    "\n",
    "$$\\left|g(x)\\right| \\geq \\frac{1}{2}\\left|g(x_0)\\right| > 0, \\quad \\forall x \\in (x_0-r, x_0+r)$$\n",
    "\n",
    "Wir betrachten nun $x \\in (x_0-r, x_0+r)$ und erhalten\n",
    "\n",
    "$$\\frac{(\\frac{f}{g})(x) - (\\frac{f}{g})(x_0)}{x-x_0} = \n",
    "\\frac{\\frac{f(x)}{g(x)} - \\frac{f(x_0)}{g(x_0)}}{x-x_0} =\n",
    "$$\n",
    "$$\n",
    "\\frac{1}{g(x)g(x_0)} \\cdot \\{ \\frac{f(x)g(x_0) - g(x)f(x_0)}{x-x_0} \\} =\n",
    "\\frac{1}{g(x)g(x_0)} \\cdot \\{ \\frac{(f(x)-f(x_0)g(x_0) - (g(x)-g(x_0)f(x_0)}{x-x_0} \\} =\n",
    "$$\n",
    "$$\n",
    "\\frac{1}{g(x)g(x_0)} \\cdot \\{\\frac{f(x)-f(x_0)}{x-x_0}\\cdot g(x_0) - f(x_0) \\cdot\\frac{g(x)-g(x_0)}{x-x_0}\\}\n",
    "$$\n",
    "\n",
    "$$\n",
    "\\Rightarrow \\lim_{x\\rightarrow x_0}  \\{\\frac{ (\\frac{f}{g})(x) - (\\frac{f}{g})(x_0)} {x-x_0}\\}=\n",
    "\\lim_{x\\rightarrow x_0} \\{\\frac{1}{g(x)}\\} \\cdot \\frac{1}{g(x_0)} \\cdot \\{\\lim_{x\\rightarrow x_0} \\frac{f(x) - f(x_0)}{x-x_0}\\cdot g(x_0) - f(x_0) \\cdot \\frac{g(x) - g(x_0)}{x-x_0}\\} =\n",
    "$$\n",
    "\n",
    "$$\n",
    "\\frac{1}{g(x_0)^2} \\{f^\\prime(x_0) \\cdot g(x_0) - f(x_0) \\cdot g^\\prime(x_0)\\}\n",
    "$$"
   ]
  },
  {
   "cell_type": "markdown",
   "id": "276183d0-18fd-4299-a02a-5a9f840af7e7",
   "metadata": {},
   "source": [
    "## Satz VII.5 [Kettenregel]\n",
    "\n",
    "Seien $U, V \\subseteq \\mathbb{R}, \\; U,V \\neq \\emptyset$ offen, $g: U \\rightarrow V$ diff'bar bei $x_0 \\in U$ und $f: V \\rightarrow \\mathbb{R}$ diff'bar bei $g(x_0 \\in V$. Dann ist $(f \\cdot g): U \\rightarrow \\mathbb{R}$ diff'bar bei $x_0 \\in U$ und es gilt die Kettenregel:\n",
    "\n",
    "$$(f \\cdot g)^\\prime(x_0) = f(x_0)^\\prime\\cdot g(x_0) + f(x_0)\\cdot g(x_0)^\\prime$$\n",
    "\n",
    "### Beweisidee:\n",
    "\n",
    "$$\\lim_{x \\rightarrow x_0} \\{\\frac{f[g(x)] - f[g(x_0)]}{x-x_0}\\} = \\lim_{x \\rightarrow x_0} \\{\\frac{f[g(x)] - f[g(x_0)]}{g(x)-g(x_0)} \\cdot \\frac{g(x)-g(x_0)}{x-x_0}\\} = \\underbrace{\\lim_{x \\rightarrow x_0} \\{\\frac{f[g(x_n)] - f[g(x_0)]}{g(x_n)-g(x_0)}\\}}_{= f^\\prime [g(x_0)]} \\cdot \\underbrace{\\lim_{x \\rightarrow x_0} \\{\\frac{g(x)-g(x_0)}{x-x_0}\\}}_{g^\\prime(x_0)}$$"
   ]
  },
  {
   "cell_type": "markdown",
   "id": "b0099259-da36-4cb8-b3ed-d48562709550",
   "metadata": {},
   "source": [
    "### Bemerkungen + Beispiele\n",
    "\n",
    "- $f_n: \\mathbb{R} \\rightarrow \\mathbb{R}, \\quad f_n(x) := x^n, \\; n \\in \\mathbb{N}_0, \\; f_0(x) = 1 \\quad$\n",
    "$\\Rightarrow \\lim_{x \\rightarrow x_0} \\frac{f_0(x) - f_0(x_0)}{x-x_0} = \\lim_{x \\rightarrow x_0} \\frac{1-1}{x-x_0} = 0$\n",
    "\n",
    "$\\lim_{x \\rightarrow x_0} \\frac{f_1(x) - f_1(x_0)}{x-x_0} = \\lim_{x \\rightarrow x_0} \\frac{x-x_0)}{x-x_0} = 1,$\n",
    "\n",
    "$\\Rightarrow \\forall x_0 \\in \\mathbb{R}: \\quad f_0^\\prime(x_0) = 0, f_1^\\prime(x) = (x)^\\prime = 1$\n",
    "\n",
    "- Vollständige Induktion:\n",
    "\n",
    "$(x^n)^\\prime = f_n^\\prime(x) = n \\cdot x^{n-1} = n \\cot f_{n-1}(x)$\n",
    "\n",
    "I-Anfang ist $f_1: \\; f_1^\\prime(x) = 1 \\cdot x^{1-1} = 1$\n",
    "\n",
    "I-Schritt:\n",
    "\n",
    "$f_{n+1}^\\prime(x) = (f_1 \\cdot f_n)^\\prime (x) = f_1^\\prime(x) \\cdot f(x) + f_1(x) \\cdot f_n^\\prime(x) = 1 \\cdot x^n - x \\cdot (n \\cdot x^{n-1}) = (n+1)\\cdot x^n$\n",
    "\n",
    "$\\Rightarrow \\forall n \\in \\mathbb{N}_0, \\; x \\in \\mathbb{R}: \\quad (x^n)^\\prime = n \\cdot x^{n-1}$\n",
    "\n",
    "- Linearität\n",
    "\n",
    "$\\Rightarrow (\\alpha_0 + \\alpha_1 x + \\alpha_2 x^2 + \\dots + \\alpha_n x^n)^\\prime = \\alpha_0 (1)^\\prime + \\alpha_1 (x)^\\prime + \\alpha_2 (x^2)^\\prime + \\dots + \\alpha_n (x^n)^\\prime = \\alpha_1 + 2\\alpha_2 x + \\dots + n \\cdot \\alpha_n \\cdot x^{n-1}$\n",
    "\n",
    "- Für $x \\in \\mathbb{R} \\{0\\}$ und $n \\in \\mathbb{N}$ ist nach der Quotientenregel\n",
    "\n",
    "$(x^{-n})^\\prime = (\\frac{1}{x_n})^\\prime = \\frac{(1)^\\prime \\cdot x^n - 1 \\cdot (x^n)^\\prime}{(x^n)^2} = \\frac{n \\cdot x^{n-1}}{x^{2n}} = (-n) \\cdot x^{-n-1}$\n",
    "\n",
    "$\\Rightarrow \\forall x \\in \\mathbb{R} \\{0\\}, \\; k \\in \\mathbb{Z}: \\quad (x^k)^\\prime = k \\cdot x^{k-1}$.\n",
    "\n",
    "- $n \\in \\mathbb{N}, x \\in \\mathbb{R}^+, g(x) = \\sqrt[n]{x} = x^{\\frac{1}{n}}$\n",
    "\n",
    "$\\Rightarrow f_n \\circ g: \\mathbb{R}^+ \\rightarrow \\mathbb{R}^+, $"
   ]
  },
  {
   "cell_type": "markdown",
   "id": "d7d348f1-79c1-4577-bae0-14d1493b2389",
   "metadata": {},
   "source": [
    "$\\frac{e^x - e^{x_0}}{x-x_0}-e^{x_0} = e^{x_0}\\cdot \\frac{e^{x-x_0} - (1+(x-x_0))}{x-x_0}$\n",
    "\n",
    "$e^{x-x_0} - (1+ x-x_0) = \\sum\\limits_{k=0}^\\infty \\frac{(x-x_0)^k}{k!} - 1 - (x-x_0) = \\sum\\limits_{k=0}^\\infty \\frac{(x-x_0)^k}{k!}$\n",
    "\n",
    "$\\Rightarrow \\left|e^{x-x_0} - 1 - (x-x_0))\\right| \\leq \\sum\\limits_{j=0}^\\infty \\frac{\\left|(x-x_0)^{j+1}\\right|}{(j+2)!} \\leq \\left|(x-x_0)\\right|^2\\cdot\\sum\\limits_{j=0}^\\infty \\frac{\\left|(x-x_0)^{j}\\right|}{j!}$\n",
    "\n",
    "$\\Rightarrow (e^x)^\\prime = e^x$"
   ]
  },
  {
   "cell_type": "code",
   "execution_count": null,
   "id": "a3ef543e-bdc2-4b61-8a59-4ff9168fcba8",
   "metadata": {},
   "outputs": [],
   "source": []
  }
 ],
 "metadata": {
  "kernelspec": {
   "display_name": "Python 3 (ipykernel)",
   "language": "python",
   "name": "python3"
  },
  "language_info": {
   "codemirror_mode": {
    "name": "ipython",
    "version": 3
   },
   "file_extension": ".py",
   "mimetype": "text/x-python",
   "name": "python",
   "nbconvert_exporter": "python",
   "pygments_lexer": "ipython3",
   "version": "3.8.16"
  }
 },
 "nbformat": 4,
 "nbformat_minor": 5
}
