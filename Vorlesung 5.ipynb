{
 "cells": [
  {
   "cell_type": "markdown",
   "id": "eed644ca-4ab8-48a5-8a8f-3d1871fd6036",
   "metadata": {},
   "source": [
    "$(a_n)^\\infty_{n=1} \\in \\mathbb{R}^\\mathbb{N}$ reelle beschränkte Zahlenfolge,\n",
    "\n",
    "$$b_m := \\inf{\\{a_m, a_{m+1}, a_{m+2}, \\dots\\}} \\leq b_{m+1},$$\n",
    "\n",
    "$$c_m := \\sup{\\{a_m, a_{m+1}, a_{m+2}, \\dots\\}} \\geq c_{m+1}$$\n",
    "\n",
    "$$(\\Rightarrow \\forall m \\in\\mathbb{N}: b_m \\leq c_m)$$\n",
    "\n",
    "$$\\limsup_{n \\rightarrow \\infty}\\{a_n\\} = \\lim_{n \\rightarrow \\infty}\\{c_m\\} =: \\overline{a} = $$ - größter Häufungspunkt von $(a_n)^\\infty_{n=1}$\n",
    "\n",
    "$$\\liminf_{n \\rightarrow \\infty}\\{a_n\\} = \\lim_{n \\rightarrow \\infty}\\{b_m\\} =: \\underline{a} = $$ - kleinster Häufungspunkt von $(a_n)^\\infty_{n=1}$\n",
    "\n"
   ]
  },
  {
   "cell_type": "markdown",
   "id": "88552858-e132-4b3e-be19-9840278a6b59",
   "metadata": {},
   "source": [
    "## Beispiele\n",
    "\n",
    "- $a_n = (-1)^n + \\frac{1}{n} \\Rightarrow (a_n)^\\infty_{n=1}$ ist divergent besitzt aber die konvergenten Teilfolgen $a_{2n} \\longrightarrow 1,\\; a_{2n-1} \\longrightarrow -1,\\; n \\longrightarrow\\infty$.\n",
    "$\\Rightarrow 1 \\; & \\; -1$ sind Häufungswerte von $(a_n)^\\infty_{n=1}$, und zwar (ohne Beweis) die einzigen.\n",
    "$\\Rightarrow \\limsup_{n \\rightarrow \\infty}\\{a_n\\} = 1, \\quad \\liminf_{n \\rightarrow \\infty}\\{a_n\\} = -1$\n",
    "\n",
    "- $\\widetilde{a_n} := [(-1)^n+1]\\cdot n$\n",
    "$\\Rightarrow \\widetilde{a_2n} = 4n \\longrightarrow \\infty, \\widetilde{a_2n} = 0 \\longrightarrow 0,$\n",
    "$\\Rightarrow \\limsup_{n \\rightarrow \\infty}\\{\\widetilde{a_n}\\} = \\infty, \\liminf_{n \\rightarrow \\infty}\\{\\widetilde{a_n}\\} = 0$"
   ]
  },
  {
   "cell_type": "markdown",
   "id": "d7145d5c-6867-49e8-b3df-61a2e26130ff",
   "metadata": {},
   "source": [
    "# IV.3 Cauchy-Folgen\n",
    "\n",
    "## Definition IV.9\n",
    "\n",
    "Eine Zahlenfolge $(a_n)^\\infty_{n=1} \\in \\mathbb{K}^\\mathbb{N}$ heißt Cauchy-Folge $:\\Leftrightarrow$\n",
    "\n",
    "$$ \\forall \\epsilon > 0\\; \\exists n_0 \\in \\mathbb{N} \\;\\forall m,n \\geq n_0: \\; \\left| a_m - a_n \\right| \\leq \\epsilon.$$ "
   ]
  },
  {
   "cell_type": "markdown",
   "id": "6c6ddce9-8b2f-4306-a226-cf63f696b402",
   "metadata": {},
   "source": [
    "## Lemma IV.8\n",
    "\n",
    "Sei $(a_n)^\\infty_{n=1} \\in\\mathbb{R}^\\mathbb{N}$ eine reelle Zahlenfolge.\n",
    "\n",
    "Dann ist: [$(a_n)^\\infty_{n=1}$ konvergent] $\\Leftrightarrow$ [$\\limsup_{n \\rightarrow \\infty}\\{a_n\\} = \\liminf_{n \\rightarrow \\infty}\\{a_n\\} \\in\\mathbb{R}$]"
   ]
  },
  {
   "cell_type": "markdown",
   "id": "6ef5dc01-ce11-49a0-a17a-f971ee1d5dce",
   "metadata": {},
   "source": [
    "## Lemma IV.10\n",
    "\n",
    "Seien $(a_n)^\\infty_{n=1} \\in \\mathbb{K}^\\mathbb{N}$ eine konvergente Zahlenfolge.\n",
    "\n",
    "Dann ist $(a_n)^\\infty_{n=1}$ auch eine Cauchy-Folge.\n",
    "\n",
    "Beweis: Sind $a :=  \\lim_{n \\rightarrow \\infty}\\{a_n\\}$ und $\\epsilon > 0$, so können wir ein $n_0 \\in\\mathbb{N}$ so finden, dass\n",
    "\n",
    "$$\\forall n \\geq n_0: \\; \\left| a_n - a \\right| \\leq \\frac{\\epsilon}{2}.$$\n",
    "\n",
    "Somit ist\n",
    "\n",
    "$$\\forall m,n \\geq n_0: \\quad \\left| a_n - a \\right| = \\left| (a_m - a) - (a_n -a) \\right| \\leq \\underbrace{\\left| a_m - a \\right|}_{\\leq \\frac{\\epsilon}{2}} + \\underbrace{\\left| a_n - a \\right|}_{\\leq \\frac{\\epsilon}{2}} \\leq \\epsilon.$$"
   ]
  },
  {
   "cell_type": "markdown",
   "id": "f44638d0-b847-4f0d-b948-aa064b0032a4",
   "metadata": {},
   "source": [
    "## Satz IV.11 [Cauchy-Kriterium]\n",
    "\n",
    "Ist $(a_n)^\\infty_{n=1} \\in \\mathbb{R}^\\mathbb{N}$ eine Cauchy-Folge, so ist sie auch konvergent.\n",
    "\n",
    "$(a_n)^\\infty_{n=1} \\in \\mathbb{R}^\\mathbb{N}$ beschränkt.\n",
    "\n",
    "???\n",
    "$$b_m = \\inf{\\{a_m, a_{m+1}, a_{m+2}\\}} \\leq b_{m+1},$$\n",
    "$$c_m = \\sup{\\{a_m, a_{m+1}, a_{m+2}\\}} \\leq c_{m+1},$$\n",
    "\n",
    "???\n",
    "\n",
    "\n",
    "Beweis: Sei $(a_n)^\\infty_{n=1} \\in \\mathbb{R}^\\mathbb{N}$ eine Cauchy-Folge. Für $ \\epsilon := 1$ gibt es ein $n_0 \\in\\mathbb{N}$ so, dass \n",
    "\n",
    "$$\\forall n \\geq n_0:\\quad \\left| a_n - a \\right| \\leq 1$$\n",
    "\n",
    "$$\\Rightarrow \\forall n\\in\\mathbb{N}:\\quad \\left| a_n \\right| \\leq \\max{\\{\\left| a_1 \\right|, \\left| a_2\\right|, \\dots, \\left| a_{n_0}\\right|\\}} + 1 =: \\mathbb{R} < \\infty.$$\n",
    "\n",
    "$\\Rightarrow (a_n)^\\infty_{n=1}$ ist beschränkt\n",
    "\n",
    "Nach Lemma IV.8 reicht es zu zeigen, dass $$\\underline{a} = \\overline{a}$$\n",
    "\n",
    "Sei $\\epsilon > 0$. Weil $(a_n)^\\infty_{n=1}$ eine Cauchy-Folge ist, gibt es $n_0 \\in \\mathbb{N}$ so, dass $$\\forall n \\geq n_0: \\quad \\left| a_n - a \\right| \\leq \\epsilon$$ \n",
    "\n",
    "$\\Rightarrow\\forall n > n_0: \\quad a_{n_0} - a_n \\leq \\epsilon$\n",
    "\n",
    "$\\Rightarrow\\forall n > n_0: \\quad a_n - a_{n_0} \\leq \\epsilon$\n",
    "\n",
    "Damit gilt auch für alle $n \\geq n_0$\n",
    "\n",
    "$$a_{n_0} - \\epsilon \\leq \\inf_{n \\geq n_0}\\{a_n\\} = b_{n_0} \\leq \\underline{a} \\leq \\overline{a} \\leq c_{n_0} = \\sup_{n \\geq n_0}\\{a_n\\} \\leq a_{n_0} + \\epsilon$$\n",
    "\n",
    "also\n",
    "\n",
    "$$0 \\leq \\overline{a} - \\underline{a} \\leq \\xcancel{(a_{n_0} + \\epsilon) - (a_{n_0} - \\epsilon)} = 2\\epsilon.$$\n",
    "\n",
    "Da $\\epsilon > 0$ beliebig gewählt werden kann, folgt $\\overline{a} = \\underline{a}.$ "
   ]
  },
  {
   "cell_type": "markdown",
   "id": "2c3844d4-dfb6-4053-b9b7-777bae00d1ec",
   "metadata": {},
   "source": [
    "# V. Reihen\n",
    "\n",
    "## V.1 Definitionen\n",
    "\n",
    "### Definition V.1 \n",
    "\n",
    "Sei $(a_n)^\\infty_{n=1} \\in\\mathbb{K}^\\mathbb{N}$ eine Zahlenfolge. Dann heißt die Folge $(s_m)^\\infty_{n=1} \\in\\mathbb{K}^\\mathbb{N}$, mit \n",
    "\n",
    "$$s_m := \\sum^m_{n=1}{a_n}$$\n",
    "\n",
    "Reihe in $\\mathbb{K}$ und $s_m$ nennt man m.Partialsumme.\n",
    "Ist $(s_m)^\\infty_{n=1}$ konvergent, so schreiben wir\n",
    "\n",
    "$$\\sum^\\infty_{n=1}{a_n} := \\lim_{m \\rightarrow \\infty}\\{s_m\\} = \\lim_{n \\rightarrow \\infty}\\{\\sum^m_{n=1}{a_n}\\}.$$"
   ]
  },
  {
   "cell_type": "markdown",
   "id": "9428df5a-bda0-4418-a22c-a2594161e5c3",
   "metadata": {
    "tags": []
   },
   "source": [
    "## Lemma V.2 [Cauchy-Kriterium für Reihen]\n",
    "\n",
    "Sei $(s_m)^\\infty_{n=1} \\in\\mathbb{K}^\\mathbb{N}$ mit $s_m := \\sum^m_{n=1}{a_n}$ eine Reihe in $\\mathbb{K}$.\n",
    "\n",
    "$[(s_m)^\\infty_{n=1}$ konvergent$] \\Leftrightarrow [\\forall \\epsilon > 0\\; \\exists n_0 \\in \\mathbb{N} \\forall m \\geq n \\geq n_0: \\left| \\sum^m_{k=n}{a_k} \\right| \\leq \\epsilon]$.\n",
    "\n",
    "## Lemma V.3 [Monotoniekriterium für Reihen]\n",
    "\n",
    "Sei $(a_n)^\\infty_{n=1} \\in (\\mathbb{R^+_0})^\\mathbb{N}$ eine Folge nicht negativer Zahlen.\n",
    "\n",
    "Dann gilt \n",
    "\n",
    "$$[(\\sum^m_{n=1}{a_n})^\\infty_{m=1} \\; ist\\;konvergent] \\Leftrightarrow [(\\sum^m_{n=1}{a_n})^\\infty_{m=1} ist\\;nach\\;oben\\;beschränkt]$$"
   ]
  },
  {
   "cell_type": "markdown",
   "id": "4751dea4-2555-429b-b299-43c7faacf056",
   "metadata": {},
   "source": [
    "### Bemerkungen & Beispiele:\n",
    "\n",
    "- Das Cauchy-Kriterium liefert für $m=n$, dass eine konvergente Reihe $(\\sum^m_{n=1}{a_n})^\\infty_{m=1}$ die Folgeglieder $a_n$ eine Nullfolge bilden, $a_n \\longrightarrow 0, n \\longrightarrow \\infty$. Wird meist umgekehrt genutzt um zu zeigen, dass eine Reihe divergiert\n",
    "\n",
    "- Sei $\\lambda\\in\\mathbb{K}$ mit $\\left|\\lambda\\right|<1$. Dann ist für jedes $m\\in\\mathbb{N}$:\n",
    "\n",
    "$$(1-\\lambda)\\cdot(\\sum^m_{k=0}{\\lambda^k}) = \\sum^m_{k=0}{\\lambda^k} - \\sum^m_{k=0}{\\lambda^{k+1}} = \\sum^m_{k=0}{\\lambda^k} - \\sum^{m+1}_{j=1}{\\lambda^j} = \\sum^m_{k=0}{\\lambda^k} - \\sum^{m+1}_{k=1}{\\lambda^k} $$\n",
    "$$= (1+\\lambda+\\lambda^2+\\dots+\\lambda^m) - (\\lambda+\\lambda^2+\\dots+\\lambda^m+\\lambda^{m+1}) = 1-\\lambda^{m+1}$$\n",
    "\n",
    "$$\\Rightarrow \\forall m \\in\\mathbb{N}, \\;\\lambda\\in\\mathbb{K}, \\;\\left|\\lambda\\right|<1:\\quad \\sum^{m}_{k=0}{\\lambda^k} = \\frac{1-\\lambda^{m+1}}{1-\\lambda}$$\n",
    "\n",
    "Also ist die Reihe $(\\sum^m_{k=0}{\\lambda^k})^\\infty_{m=1} \\in\\mathbb{K}^\\mathbb{N}$ ist konvergent, und es gilt $\\sum^\\infty_{k=0}{\\lambda^k} = \\lim_{m \\longrightarrow\\infty}{\\{\\frac{a-\\lambda^{m+1}}{1-\\lambda}\\}} = \\frac{1- \\lim_{m \\longrightarrow \\infty}{\\lambda^{m+1}}}{1-\\lambda}=\\frac{1}{1-\\lambda}$\n",
    "\n",
    "- $\\lambda = \\frac{1}{2} \\Rightarrow \\{1+ \\frac{1}{2} + \\frac{1}{4} + \\frac{1}{8} + \\dots\\} = \\{1+ \\frac{1}{2} + \\frac{1}{4} + \\frac{1}{8} + \\dots\\} - 1 = (\\sum\\limits^\\infty_{k=0}{(\\frac{1}{2})^k})-1 = \\frac{1}{1-\\frac{1}{2}}-1=1$"
   ]
  },
  {
   "cell_type": "code",
   "execution_count": null,
   "id": "1661d4af-75cf-48b7-9947-1deb5af4f69e",
   "metadata": {},
   "outputs": [],
   "source": []
  }
 ],
 "metadata": {
  "kernelspec": {
   "display_name": "Python 3 (ipykernel)",
   "language": "python",
   "name": "python3"
  },
  "language_info": {
   "codemirror_mode": {
    "name": "ipython",
    "version": 3
   },
   "file_extension": ".py",
   "mimetype": "text/x-python",
   "name": "python",
   "nbconvert_exporter": "python",
   "pygments_lexer": "ipython3",
   "version": "3.10.9"
  }
 },
 "nbformat": 4,
 "nbformat_minor": 5
}
